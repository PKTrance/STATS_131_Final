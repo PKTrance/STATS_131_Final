{
 "cells": [
  {
   "cell_type": "code",
   "execution_count": 1,
   "metadata": {},
   "outputs": [],
   "source": [
    "import pandas as pd\n",
    "\n",
    "pubg = pd.read_csv('pubg.csv')"
   ]
  },
  {
   "cell_type": "code",
   "execution_count": 2,
   "metadata": {},
   "outputs": [
    {
     "name": "stdout",
     "output_type": "stream",
     "text": [
      "   Unnamed: 0              Id         groupId         matchId  assists  \\\n",
      "0     1494644  f733de5bc1923d  22f5ffb5e898bf  339bdc4ad55a8b        0   \n",
      "1     1319287  5906b12db725d3  b9b9079cf18b84  f7bfbfab040691        0   \n",
      "2       36381  0acb9f742d6bdb  252b5042094339  1a9121c1563ed9        0   \n",
      "3     2914345  564d2d1b64e7fa  56ec7fc9d1a80b  dd23b183d49c2a        0   \n",
      "4     2632811  e242a1ed942c6a  e8bd58872fe4e3  a7789ba61a3885        1   \n",
      "\n",
      "   boosts  damageDealt  DBNOs  headshotKills  heals      ...       revives  \\\n",
      "0       0       190.70      1              0      0      ...             0   \n",
      "1       0        36.00      0              0      0      ...             0   \n",
      "2       2        55.71      0              0      1      ...             0   \n",
      "3       4       254.10      0              0      2      ...             0   \n",
      "4       1        40.85      0              0      4      ...             1   \n",
      "\n",
      "   rideDistance  roadKills  swimDistance  teamKills  vehicleDestroys  \\\n",
      "0           0.0          0           0.0          0                0   \n",
      "1           0.0          0           0.0          0                0   \n",
      "2           0.0          0           0.0          0                0   \n",
      "3         812.4          0           0.0          0                0   \n",
      "4        5825.0          0           0.0          0                0   \n",
      "\n",
      "  walkDistance  weaponsAcquired  winPoints  winPlacePerc  \n",
      "0        210.1                3          0        0.0714  \n",
      "1          0.0                9          0        0.0000  \n",
      "2       3129.0                7          0        0.6632  \n",
      "3       2352.0                6          0        0.9368  \n",
      "4       1034.0                8       1493        0.5185  \n",
      "\n",
      "[5 rows x 30 columns]\n"
     ]
    }
   ],
   "source": [
    "print(pubg.head())"
   ]
  },
  {
   "cell_type": "code",
   "execution_count": null,
   "metadata": {},
   "outputs": [],
   "source": []
  }
 ],
 "metadata": {
  "kernelspec": {
   "display_name": "Python 3",
   "language": "python",
   "name": "python3"
  },
  "language_info": {
   "codemirror_mode": {
    "name": "ipython",
    "version": 3
   },
   "file_extension": ".py",
   "mimetype": "text/x-python",
   "name": "python",
   "nbconvert_exporter": "python",
   "pygments_lexer": "ipython3",
   "version": "3.7.0"
  }
 },
 "nbformat": 4,
 "nbformat_minor": 2
}
